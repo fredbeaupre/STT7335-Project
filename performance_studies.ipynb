{
 "cells": [
  {
   "cell_type": "code",
   "execution_count": 34,
   "metadata": {
    "collapsed": true,
    "ExecuteTime": {
     "start_time": "2023-04-27T10:48:09.490618Z",
     "end_time": "2023-04-27T10:48:09.541555Z"
    }
   },
   "outputs": [],
   "source": [
    "import numpy\n",
    "import pandas\n",
    "import sklearn\n",
    "import matplotlib.pyplot as plt\n",
    "import os\n",
    "import seaborn\n",
    "from scipy.cluster.hierarchy import dendrogram, linkage\n",
    "from sklearn.decomposition import PCA\n",
    "from sklearn.manifold import TSNE, MDS\n",
    "from sklearn.cluster import DBSCAN, Birch, KMeans\n",
    "import math\n",
    "from scipy.linalg import svdvals\n",
    "from umap import UMAP\n",
    "import plotly.express as px\n",
    "seaborn.set(style=\"ticks\", context=\"talk\")"
   ]
  },
  {
   "cell_type": "markdown",
   "source": [
    "# Data setup"
   ],
   "metadata": {
    "collapsed": false
   }
  },
  {
   "cell_type": "code",
   "execution_count": 35,
   "outputs": [],
   "source": [
    "#expname = experiment name\n",
    "#n_clusters = 12\n",
    "#df = None #Pandas dataframe\n",
    "#labels = None #Single column Pandas dataframe\n",
    "#moreLabels = None #Pandas dataframe\n",
    "#labelnames = None #Namedict that corresponds labels to string"
   ],
   "metadata": {
    "collapsed": false,
    "ExecuteTime": {
     "start_time": "2023-04-27T10:48:09.500024Z",
     "end_time": "2023-04-27T10:48:09.586582Z"
    }
   }
  },
  {
   "cell_type": "code",
   "execution_count": 36,
   "outputs": [],
   "source": [
    "expname = 'Bank_Classification'\n",
    "n_clusters = 2\n",
    "df = numpy.load('embeddings.npz')['embeddings']\n",
    "source = pandas.read_csv('bank-additional-full.csv', sep=';')\n",
    "moreLabels = source.drop('y', axis=1)\n",
    "labels = source['y'].replace(to_replace=['no', 'yes'], value=[0, 1])\n",
    "labelnames = {0:'No', 1:'Yes'}"
   ],
   "metadata": {
    "collapsed": false,
    "ExecuteTime": {
     "start_time": "2023-04-27T10:48:09.514976Z",
     "end_time": "2023-04-27T10:48:09.661757Z"
    }
   }
  },
  {
   "cell_type": "code",
   "execution_count": 37,
   "outputs": [
    {
     "data": {
      "text/plain": "0        0\n1        0\n2        0\n3        0\n4        0\n        ..\n41183    1\n41184    0\n41185    0\n41186    1\n41187    0\nName: y, Length: 41188, dtype: int64"
     },
     "execution_count": 37,
     "metadata": {},
     "output_type": "execute_result"
    }
   ],
   "source": [
    "labels"
   ],
   "metadata": {
    "collapsed": false,
    "ExecuteTime": {
     "start_time": "2023-04-27T10:48:09.661620Z",
     "end_time": "2023-04-27T10:48:09.662242Z"
    }
   }
  },
  {
   "cell_type": "markdown",
   "source": [
    "# Visualisation"
   ],
   "metadata": {
    "collapsed": false
   }
  },
  {
   "cell_type": "code",
   "execution_count": null,
   "outputs": [],
   "source": [
    "# Pca section\n",
    "pca = PCA(n_components=2)\n",
    "pcaed_df = pca.fit_transform(df)\n",
    "\n",
    "# MDS manifold\n",
    "mds = MDS(n_components=2)\n",
    "mdsed_df = mds.fit_transform(df)\n",
    "\n",
    "# T-SNE section\n",
    "tsne = TSNE(n_components=2)\n",
    "tsned_df = tsne.fit_transform(df)\n",
    "\n",
    "# UMAP section\n",
    "umap = UMAP(n_components=2)\n",
    "umaped_df = umap.fit_transform(df)"
   ],
   "metadata": {
    "collapsed": false,
    "ExecuteTime": {
     "start_time": "2023-04-27T09:50:18.907906Z",
     "end_time": "2023-04-27T09:53:26.058631Z"
    },
    "pycharm": {
     "is_executing": true
    }
   }
  },
  {
   "cell_type": "code",
   "execution_count": null,
   "outputs": [],
   "source": [
    "for dataf, methodName in zip([pcaed_df, mdsed_df, tsned_df, umaped_df], ['PCA', 'MDS', 'TSNE', 'UMAP']) :\n",
    "    fig = px.scatter(pandas.concat([pandas.DataFrame(dataf, columns=['Dim 1', 'Dim 2']), moreLabels], axis=1), x='Dim 1', y='Dim 2', width=1000, height=1000,\n",
    "                             hover_data=moreLabels.columns,\n",
    "                             color=[labelnames[i] for i in labels],\n",
    "                             title=f\"2D Data Projection using {methodName}\")\n",
    "\n",
    "    traces = dict(size=20, opacity=0.5, line=dict(color='White', width=2))\n",
    "    fig.update_traces(marker=traces)\n",
    "    fig.write_image(f'AnalysisOutput/{expname}_Visualisation_{methodName}.png')\n",
    "    fig.show()"
   ],
   "metadata": {
    "collapsed": false,
    "ExecuteTime": {
     "start_time": "2023-04-27T09:53:26.070735Z",
     "end_time": "2023-04-27T09:53:27.633943Z"
    },
    "pycharm": {
     "is_executing": true
    }
   }
  },
  {
   "cell_type": "markdown",
   "source": [
    "# Clustering"
   ],
   "metadata": {
    "collapsed": false
   }
  },
  {
   "cell_type": "code",
   "execution_count": null,
   "outputs": [],
   "source": [
    "# Kmeans section\n",
    "kmeans = KMeans(n_clusters=n_clusters)\n",
    "kmeans.fit(df)\n",
    "\n",
    "# DBScan manifold\n",
    "dbscan = DBSCAN()\n",
    "dbscan.fit(df)\n",
    "\n",
    "# T-SNE section\n",
    "birch = Birch(n_clusters=n_clusters)\n",
    "birch.fit(df)"
   ],
   "metadata": {
    "collapsed": false,
    "ExecuteTime": {
     "start_time": "2023-04-27T09:53:27.641350Z",
     "end_time": "2023-04-27T09:53:28.523177Z"
    },
    "pycharm": {
     "is_executing": true
    }
   }
  },
  {
   "cell_type": "code",
   "execution_count": null,
   "outputs": [],
   "source": [
    "visual_models = [pcaed_df, mdsed_df, tsned_df, umaped_df]\n",
    "model_names = ['PCA', 'MDS', 'TSNE', 'UMAP']\n",
    "chosen_visual_model = 2\n",
    "\n",
    "for cluster_model, cluster_model_name in zip([kmeans, dbscan, birch], ['KMeans', 'DBScan', 'Birch']):\n",
    "    fig = px.scatter(pandas.concat([pandas.DataFrame(visual_models[chosen_visual_model], columns=['Dim 1', 'Dim 2']),\n",
    "                                    pandas.DataFrame(labels, columns=['moa']),\n",
    "                                    moreLabels], axis=1),\n",
    "        x='Dim 1', y='Dim 2', width=1000, height=1000, hover_data=moreLabels.columns,\n",
    "        color=cluster_model.labels_.astype(str),\n",
    "        title=f\"Clustering using {cluster_model_name}\",\n",
    "        color_discrete_sequence=px.colors.qualitative.Dark24,\n",
    "        template='plotly_dark')\n",
    "\n",
    "    traces = dict(size=20, opacity=0.5, line=dict(color='White', width=2))\n",
    "    fig.update_traces(marker=traces)\n",
    "    fig.write_image(f'AnalysisOutput/{expname}_Clustering_{cluster_model_name}.png')\n",
    "    fig.show()"
   ],
   "metadata": {
    "collapsed": false,
    "ExecuteTime": {
     "start_time": "2023-04-27T09:53:28.532393Z",
     "end_time": "2023-04-27T09:53:29.126540Z"
    },
    "pycharm": {
     "is_executing": true
    }
   }
  },
  {
   "cell_type": "markdown",
   "source": [
    "# Collapse"
   ],
   "metadata": {
    "collapsed": false
   }
  },
  {
   "cell_type": "code",
   "execution_count": null,
   "outputs": [],
   "source": [
    "covmat = numpy.cov(df, rowvar=False)\n",
    "decomp = svdvals(covmat)\n",
    "plt.plot(range(len(df.columns)), [math.log(i) for i in decomp])\n",
    "plt.ylim((-10,0))\n",
    "plt.xlabel('Dimension')\n",
    "plt.ylabel('Log of Singular Values')\n",
    "plt.title('Dimensional Collapse')\n",
    "plt.savefig(f'AnalysisOutput/{expname}_Collapse.png')"
   ],
   "metadata": {
    "collapsed": false,
    "ExecuteTime": {
     "start_time": "2023-04-27T09:53:29.129406Z",
     "end_time": "2023-04-27T09:53:29.942252Z"
    },
    "pycharm": {
     "is_executing": true
    }
   }
  },
  {
   "cell_type": "code",
   "execution_count": null,
   "outputs": [],
   "source": [],
   "metadata": {
    "collapsed": false,
    "ExecuteTime": {
     "start_time": "2023-04-27T09:53:29.941999Z",
     "end_time": "2023-04-27T09:53:29.944597Z"
    },
    "pycharm": {
     "is_executing": true
    }
   }
  },
  {
   "cell_type": "markdown",
   "source": [],
   "metadata": {
    "collapsed": false
   }
  }
 ],
 "metadata": {
  "kernelspec": {
   "display_name": "Python 3",
   "language": "python",
   "name": "python3"
  },
  "language_info": {
   "codemirror_mode": {
    "name": "ipython",
    "version": 2
   },
   "file_extension": ".py",
   "mimetype": "text/x-python",
   "name": "python",
   "nbconvert_exporter": "python",
   "pygments_lexer": "ipython2",
   "version": "2.7.6"
  }
 },
 "nbformat": 4,
 "nbformat_minor": 0
}
